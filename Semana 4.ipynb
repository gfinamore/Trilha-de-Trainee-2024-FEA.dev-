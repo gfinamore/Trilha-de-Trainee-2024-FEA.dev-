{
 "cells": [
  {
   "cell_type": "markdown",
   "id": "186a9a7d",
   "metadata": {},
   "source": [
    "# Exercício 1"
   ]
  },
  {
   "cell_type": "markdown",
   "id": "90448f79",
   "metadata": {},
   "source": [
    "Você é um macroeconomista e projeta o crescimento real dos setores da economia. Todavia, é um trabalho extremamente repetitivo e então decide fazer em Python para ser mais rápido! "
   ]
  },
  {
   "cell_type": "code",
   "execution_count": 1,
   "id": "6835d78a",
   "metadata": {},
   "outputs": [
    {
     "name": "stdout",
     "output_type": "stream",
     "text": [
      "Previsões de crescimento ajustadas por setor:\n",
      "Tecnologia: Crescimento Original: 9.00%, Crescimento Real: 5.30%\n",
      "Industria: Crescimento Original: 8.00%, Crescimento Real: 4.30%\n",
      "Energia: Crescimento Original: 4.00%, Crescimento Real: 0.30%\n",
      "\n",
      "Informações do cenário econômico:\n",
      "Inflacao: 3.7\n"
     ]
    }
   ],
   "source": [
    "def projetar_crescimento(*setores, **cenario):\n",
    "    # Função lambda para ajustar o crescimento com base na inflação\n",
    "    ajustar_crescimento = lambda crescimento, inflacao: crescimento - inflacao\n",
    "    \n",
    "    # Recuperando a inflação do cenário\n",
    "    inflacao = cenario.get('inflacao', 0)\n",
    "    \n",
    "    # Aplicando o ajuste de inflação a todos os setores\n",
    "    setores_ajustados = []\n",
    "    for setor in setores:\n",
    "        setor_ajustado = setor.copy()  # Copiar o dicionário do setor\n",
    "        setor_ajustado['crescimento_real'] = ajustar_crescimento(setor['crescimento'], inflacao)\n",
    "        setores_ajustados.append(setor_ajustado)\n",
    "        \n",
    "    # Printando as previsões ajustadas\n",
    "    print(\"Previsões de crescimento ajustadas por setor:\")\n",
    "    for setor in setores_ajustados:\n",
    "        print(f\"{setor['nome'].capitalize()}: Crescimento Original: {setor['crescimento']:.2f}%, Crescimento Real: {setor['crescimento_real']:.2f}%\")\n",
    "    \n",
    "    # Printar inflação na época\n",
    "    print(\"\\nInformações do cenário econômico:\")\n",
    "    for chave, valor in cenario.items():\n",
    "        print(f\"{chave.capitalize()}: {valor}\")\n",
    "\n",
    "# Setores econômicos\n",
    "setores = [\n",
    "    {'nome': 'tecnologia', 'crescimento': 9.0},\n",
    "    {'nome': 'industria', 'crescimento': 8.0},\n",
    "    {'nome': 'energia', 'crescimento': 4.0}\n",
    "]\n",
    "\n",
    "# Inflção da época\n",
    "cenario_economico = {\n",
    "    'inflacao': 3.70  # Inflaão atual\n",
    "}\n",
    "\n",
    "projetar_crescimento(\n",
    "    *setores,\n",
    "    **cenario_economico\n",
    ")"
   ]
  },
  {
   "cell_type": "markdown",
   "id": "67c385b8",
   "metadata": {},
   "source": [
    "## Exercício 2"
   ]
  },
  {
   "cell_type": "code",
   "execution_count": null,
   "id": "55d2e5ab",
   "metadata": {},
   "outputs": [],
   "source": []
  },
  {
   "cell_type": "code",
   "execution_count": null,
   "id": "4543fa52",
   "metadata": {},
   "outputs": [],
   "source": []
  }
 ],
 "metadata": {
  "kernelspec": {
   "display_name": "Python 3 (ipykernel)",
   "language": "python",
   "name": "python3"
  },
  "language_info": {
   "codemirror_mode": {
    "name": "ipython",
    "version": 3
   },
   "file_extension": ".py",
   "mimetype": "text/x-python",
   "name": "python",
   "nbconvert_exporter": "python",
   "pygments_lexer": "ipython3",
   "version": "3.11.7"
  }
 },
 "nbformat": 4,
 "nbformat_minor": 5
}
